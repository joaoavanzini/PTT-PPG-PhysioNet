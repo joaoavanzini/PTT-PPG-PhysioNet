{
 "cells": [
  {
   "cell_type": "code",
   "execution_count": 1,
   "outputs": [],
   "source": [
    "import numpy as np\n",
    "import pandas as pd\n",
    "import matplotlib.pyplot as plt\n",
    "from sklearn.cluster import KMeans\n",
    "from sklearn.preprocessing import StandardScaler\n",
    "from sklearn.decomposition import PCA\n",
    "from keras.layers import Input, Dense\n",
    "from keras.models import Model\n",
    "from sklearn.model_selection import train_test_split"
   ],
   "metadata": {
    "collapsed": false,
    "ExecuteTime": {
     "end_time": "2023-10-03T23:26:23.373528Z",
     "start_time": "2023-10-03T23:26:19.359621Z"
    }
   },
   "id": "597dba5204f72e93"
  },
  {
   "cell_type": "code",
   "execution_count": 2,
   "outputs": [],
   "source": [
    "filename = '/Users/palhares/Documents/msc/PTT-PPG-PhysioNet/physionet.org/files/pulse-transit-time-ppg/1.1.0/csv/s2_sit.csv'\n",
    "df = pd.read_csv(filename)"
   ],
   "metadata": {
    "collapsed": false,
    "ExecuteTime": {
     "end_time": "2023-10-03T23:26:23.668123Z",
     "start_time": "2023-10-03T23:26:23.379648Z"
    }
   },
   "id": "96754e5f29a11f3b"
  },
  {
   "cell_type": "code",
   "execution_count": 3,
   "outputs": [],
   "source": [
    "column_name = 'pleth_1'"
   ],
   "metadata": {
    "collapsed": false,
    "ExecuteTime": {
     "end_time": "2023-10-03T23:26:23.675662Z",
     "start_time": "2023-10-03T23:26:23.670438Z"
    }
   },
   "id": "9eea9bc3efe4b48f"
  },
  {
   "cell_type": "code",
   "execution_count": 4,
   "outputs": [],
   "source": [
    "max_rows = 100\n",
    "data = df[column_name][:max_rows]"
   ],
   "metadata": {
    "collapsed": false,
    "ExecuteTime": {
     "end_time": "2023-10-03T23:26:23.682247Z",
     "start_time": "2023-10-03T23:26:23.675402Z"
    }
   },
   "id": "60ec90262530ac30"
  },
  {
   "cell_type": "code",
   "execution_count": 5,
   "outputs": [],
   "source": [
    "data = data.values.reshape(-1, 1)"
   ],
   "metadata": {
    "collapsed": false,
    "ExecuteTime": {
     "end_time": "2023-10-03T23:26:23.682455Z",
     "start_time": "2023-10-03T23:26:23.679944Z"
    }
   },
   "id": "f914271fd3a2bfc4"
  },
  {
   "cell_type": "code",
   "execution_count": 6,
   "outputs": [],
   "source": [
    "X_train, X_test = train_test_split(data, test_size=0.2, random_state=42)"
   ],
   "metadata": {
    "collapsed": false,
    "ExecuteTime": {
     "end_time": "2023-10-03T23:26:23.690116Z",
     "start_time": "2023-10-03T23:26:23.684573Z"
    }
   },
   "id": "2cbb68083909faee"
  },
  {
   "cell_type": "code",
   "execution_count": 7,
   "outputs": [],
   "source": [
    "input_layer = Input(shape=(X_train.shape[1],))\n",
    "encoded = Dense(32, activation='relu')(input_layer)\n",
    "decoded = Dense(X_train.shape[1], activation='linear')(encoded)"
   ],
   "metadata": {
    "collapsed": false,
    "ExecuteTime": {
     "end_time": "2023-10-03T23:26:23.735162Z",
     "start_time": "2023-10-03T23:26:23.688966Z"
    }
   },
   "id": "3954256e2db78d7c"
  },
  {
   "cell_type": "code",
   "execution_count": 8,
   "outputs": [],
   "source": [
    "autoencoder = Model(inputs=input_layer, outputs=decoded)"
   ],
   "metadata": {
    "collapsed": false,
    "ExecuteTime": {
     "end_time": "2023-10-03T23:26:23.740861Z",
     "start_time": "2023-10-03T23:26:23.738093Z"
    }
   },
   "id": "59b12456fbbeb1ce"
  },
  {
   "cell_type": "code",
   "execution_count": 9,
   "outputs": [],
   "source": [
    "autoencoder.compile(optimizer='adam', loss='mean_squared_error')"
   ],
   "metadata": {
    "collapsed": false,
    "ExecuteTime": {
     "end_time": "2023-10-03T23:26:23.748298Z",
     "start_time": "2023-10-03T23:26:23.741465Z"
    }
   },
   "id": "9c16c89c3b5ec6a"
  },
  {
   "cell_type": "code",
   "execution_count": 20,
   "outputs": [
    {
     "name": "stdout",
     "output_type": "stream",
     "text": [
      "Epoch 1/50\n",
      "10/10 [==============================] - 0s 3ms/step - loss: 150702.3281 - val_loss: 7788.6143\n",
      "Epoch 2/50\n",
      "10/10 [==============================] - 0s 1ms/step - loss: 5532.8135 - val_loss: 17918.5430\n",
      "Epoch 3/50\n",
      "10/10 [==============================] - 0s 2ms/step - loss: 26742.2539 - val_loss: 30984.5254\n",
      "Epoch 4/50\n",
      "10/10 [==============================] - 0s 2ms/step - loss: 26572.5723 - val_loss: 19188.8516\n",
      "Epoch 5/50\n",
      "10/10 [==============================] - 0s 2ms/step - loss: 13046.3691 - val_loss: 6711.8975\n",
      "Epoch 6/50\n",
      "10/10 [==============================] - 0s 2ms/step - loss: 3730.2090 - val_loss: 1240.0026\n",
      "Epoch 7/50\n",
      "10/10 [==============================] - 0s 3ms/step - loss: 507.8641 - val_loss: 45.4044\n",
      "Epoch 8/50\n",
      "10/10 [==============================] - 0s 2ms/step - loss: 14.3638 - val_loss: 33.5314\n",
      "Epoch 9/50\n",
      "10/10 [==============================] - 0s 2ms/step - loss: 56.5389 - val_loss: 67.9144\n",
      "Epoch 10/50\n",
      "10/10 [==============================] - 0s 2ms/step - loss: 56.4065 - val_loss: 37.6497\n",
      "Epoch 11/50\n",
      "10/10 [==============================] - 0s 3ms/step - loss: 23.3621 - val_loss: 9.6440\n",
      "Epoch 12/50\n",
      "10/10 [==============================] - 0s 3ms/step - loss: 4.4220 - val_loss: 0.7067\n",
      "Epoch 13/50\n",
      "10/10 [==============================] - 0s 3ms/step - loss: 0.1761 - val_loss: 0.0856\n",
      "Epoch 14/50\n",
      "10/10 [==============================] - 0s 3ms/step - loss: 0.2360 - val_loss: 0.3347\n",
      "Epoch 15/50\n",
      "10/10 [==============================] - 0s 2ms/step - loss: 0.2914 - val_loss: 0.1931\n",
      "Epoch 16/50\n",
      "10/10 [==============================] - 0s 3ms/step - loss: 0.1217 - val_loss: 0.0512\n",
      "Epoch 17/50\n",
      "10/10 [==============================] - 0s 3ms/step - loss: 0.0212 - val_loss: 8.1177e-04\n",
      "Epoch 18/50\n",
      "10/10 [==============================] - 0s 4ms/step - loss: 4.6005e-04 - val_loss: 8.4839e-04\n",
      "Epoch 19/50\n",
      "10/10 [==============================] - 0s 3ms/step - loss: 0.0010 - val_loss: 0.0010\n",
      "Epoch 20/50\n",
      "10/10 [==============================] - 0s 3ms/step - loss: 0.0011 - val_loss: 9.6130e-04\n",
      "Epoch 21/50\n",
      "10/10 [==============================] - 0s 3ms/step - loss: 9.8953e-04 - val_loss: 8.0566e-04\n",
      "Epoch 22/50\n",
      "10/10 [==============================] - 0s 2ms/step - loss: 8.1024e-04 - val_loss: 6.6223e-04\n",
      "Epoch 23/50\n",
      "10/10 [==============================] - 0s 2ms/step - loss: 6.4087e-04 - val_loss: 5.3711e-04\n",
      "Epoch 24/50\n",
      "10/10 [==============================] - 0s 4ms/step - loss: 5.2872e-04 - val_loss: 4.2419e-04\n",
      "Epoch 25/50\n",
      "10/10 [==============================] - 0s 1ms/step - loss: 4.6844e-04 - val_loss: 4.0894e-04\n",
      "Epoch 26/50\n",
      "10/10 [==============================] - 0s 2ms/step - loss: 4.4403e-04 - val_loss: 3.4790e-04\n",
      "Epoch 27/50\n",
      "10/10 [==============================] - 0s 2ms/step - loss: 4.3335e-04 - val_loss: 3.2654e-04\n",
      "Epoch 28/50\n",
      "10/10 [==============================] - 0s 2ms/step - loss: 3.7918e-04 - val_loss: 2.6855e-04\n",
      "Epoch 29/50\n",
      "10/10 [==============================] - 0s 3ms/step - loss: 3.4027e-04 - val_loss: 2.2278e-04\n",
      "Epoch 30/50\n",
      "10/10 [==============================] - 0s 2ms/step - loss: 3.0670e-04 - val_loss: 2.2278e-04\n",
      "Epoch 31/50\n",
      "10/10 [==============================] - 0s 2ms/step - loss: 2.6398e-04 - val_loss: 1.9226e-04\n",
      "Epoch 32/50\n",
      "10/10 [==============================] - 0s 2ms/step - loss: 2.2583e-04 - val_loss: 1.6785e-04\n",
      "Epoch 33/50\n",
      "10/10 [==============================] - 0s 2ms/step - loss: 1.9836e-04 - val_loss: 1.4038e-04\n",
      "Epoch 34/50\n",
      "10/10 [==============================] - 0s 2ms/step - loss: 1.2970e-04 - val_loss: 1.2207e-04\n",
      "Epoch 35/50\n",
      "10/10 [==============================] - 0s 2ms/step - loss: 1.1597e-04 - val_loss: 1.0376e-04\n",
      "Epoch 36/50\n",
      "10/10 [==============================] - 0s 1ms/step - loss: 1.0834e-04 - val_loss: 1.0376e-04\n",
      "Epoch 37/50\n",
      "10/10 [==============================] - 0s 2ms/step - loss: 1.0605e-04 - val_loss: 1.0376e-04\n",
      "Epoch 38/50\n",
      "10/10 [==============================] - 0s 1ms/step - loss: 9.9945e-05 - val_loss: 7.6294e-05\n",
      "Epoch 39/50\n",
      "10/10 [==============================] - 0s 2ms/step - loss: 8.3160e-05 - val_loss: 6.1035e-05\n",
      "Epoch 40/50\n",
      "10/10 [==============================] - 0s 2ms/step - loss: 7.7820e-05 - val_loss: 5.4932e-05\n",
      "Epoch 41/50\n",
      "10/10 [==============================] - 0s 2ms/step - loss: 6.9427e-05 - val_loss: 4.2725e-05\n",
      "Epoch 42/50\n",
      "10/10 [==============================] - 0s 2ms/step - loss: 6.8665e-05 - val_loss: 3.9673e-05\n",
      "Epoch 43/50\n",
      "10/10 [==============================] - 0s 2ms/step - loss: 6.1798e-05 - val_loss: 3.6621e-05\n",
      "Epoch 44/50\n",
      "10/10 [==============================] - 0s 2ms/step - loss: 6.1798e-05 - val_loss: 3.6621e-05\n",
      "Epoch 45/50\n",
      "10/10 [==============================] - 0s 2ms/step - loss: 6.4087e-05 - val_loss: 3.6621e-05\n",
      "Epoch 46/50\n",
      "10/10 [==============================] - 0s 1ms/step - loss: 6.3324e-05 - val_loss: 3.3569e-05\n",
      "Epoch 47/50\n",
      "10/10 [==============================] - 0s 2ms/step - loss: 4.7302e-05 - val_loss: 3.3569e-05\n",
      "Epoch 48/50\n",
      "10/10 [==============================] - 0s 2ms/step - loss: 4.0436e-05 - val_loss: 3.3569e-05\n",
      "Epoch 49/50\n",
      "10/10 [==============================] - 0s 2ms/step - loss: 3.4332e-05 - val_loss: 1.8311e-05\n",
      "Epoch 50/50\n",
      "10/10 [==============================] - 0s 2ms/step - loss: 3.2043e-05 - val_loss: 1.8311e-05\n"
     ]
    },
    {
     "data": {
      "text/plain": "<keras.callbacks.History at 0x283644a30>"
     },
     "execution_count": 20,
     "metadata": {},
     "output_type": "execute_result"
    }
   ],
   "source": [
    "autoencoder.fit(X_train, X_train, epochs=50, batch_size=8, shuffle=True, validation_data=(X_test, X_test))"
   ],
   "metadata": {
    "collapsed": false,
    "ExecuteTime": {
     "end_time": "2023-10-03T23:28:45.531958Z",
     "start_time": "2023-10-03T23:28:44.387639Z"
    }
   },
   "id": "aad706f1484b7471"
  },
  {
   "cell_type": "code",
   "execution_count": 21,
   "outputs": [],
   "source": [
    "encoder = Model(inputs=input_layer, outputs=encoded)"
   ],
   "metadata": {
    "collapsed": false,
    "ExecuteTime": {
     "end_time": "2023-10-03T23:28:45.551377Z",
     "start_time": "2023-10-03T23:28:45.534663Z"
    }
   },
   "id": "db2fc3af8a9fafeb"
  },
  {
   "cell_type": "code",
   "execution_count": 22,
   "outputs": [
    {
     "name": "stdout",
     "output_type": "stream",
     "text": [
      "1/1 [==============================] - 0s 20ms/step\n"
     ]
    }
   ],
   "source": [
    "latent_space = encoder.predict(X_test)"
   ],
   "metadata": {
    "collapsed": false,
    "ExecuteTime": {
     "end_time": "2023-10-03T23:28:45.574959Z",
     "start_time": "2023-10-03T23:28:45.537849Z"
    }
   },
   "id": "477fa514716101ec"
  },
  {
   "cell_type": "code",
   "execution_count": 23,
   "outputs": [],
   "source": [
    "scaler = StandardScaler()\n",
    "data_normalized = scaler.fit_transform(latent_space)"
   ],
   "metadata": {
    "collapsed": false,
    "ExecuteTime": {
     "end_time": "2023-10-03T23:28:45.591839Z",
     "start_time": "2023-10-03T23:28:45.575633Z"
    }
   },
   "id": "4f91960fb3df5d6"
  },
  {
   "cell_type": "code",
   "execution_count": 24,
   "outputs": [
    {
     "name": "stderr",
     "output_type": "stream",
     "text": [
      "/Users/palhares/opt/anaconda3/envs/blood-pressure-estimator/lib/python3.8/site-packages/sklearn/cluster/_kmeans.py:870: FutureWarning: The default value of `n_init` will change from 10 to 'auto' in 1.4. Set the value of `n_init` explicitly to suppress the warning\n",
      "  warnings.warn(\n"
     ]
    },
    {
     "data": {
      "text/plain": "KMeans(n_clusters=4, random_state=42)",
      "text/html": "<style>#sk-container-id-3 {color: black;background-color: white;}#sk-container-id-3 pre{padding: 0;}#sk-container-id-3 div.sk-toggleable {background-color: white;}#sk-container-id-3 label.sk-toggleable__label {cursor: pointer;display: block;width: 100%;margin-bottom: 0;padding: 0.3em;box-sizing: border-box;text-align: center;}#sk-container-id-3 label.sk-toggleable__label-arrow:before {content: \"▸\";float: left;margin-right: 0.25em;color: #696969;}#sk-container-id-3 label.sk-toggleable__label-arrow:hover:before {color: black;}#sk-container-id-3 div.sk-estimator:hover label.sk-toggleable__label-arrow:before {color: black;}#sk-container-id-3 div.sk-toggleable__content {max-height: 0;max-width: 0;overflow: hidden;text-align: left;background-color: #f0f8ff;}#sk-container-id-3 div.sk-toggleable__content pre {margin: 0.2em;color: black;border-radius: 0.25em;background-color: #f0f8ff;}#sk-container-id-3 input.sk-toggleable__control:checked~div.sk-toggleable__content {max-height: 200px;max-width: 100%;overflow: auto;}#sk-container-id-3 input.sk-toggleable__control:checked~label.sk-toggleable__label-arrow:before {content: \"▾\";}#sk-container-id-3 div.sk-estimator input.sk-toggleable__control:checked~label.sk-toggleable__label {background-color: #d4ebff;}#sk-container-id-3 div.sk-label input.sk-toggleable__control:checked~label.sk-toggleable__label {background-color: #d4ebff;}#sk-container-id-3 input.sk-hidden--visually {border: 0;clip: rect(1px 1px 1px 1px);clip: rect(1px, 1px, 1px, 1px);height: 1px;margin: -1px;overflow: hidden;padding: 0;position: absolute;width: 1px;}#sk-container-id-3 div.sk-estimator {font-family: monospace;background-color: #f0f8ff;border: 1px dotted black;border-radius: 0.25em;box-sizing: border-box;margin-bottom: 0.5em;}#sk-container-id-3 div.sk-estimator:hover {background-color: #d4ebff;}#sk-container-id-3 div.sk-parallel-item::after {content: \"\";width: 100%;border-bottom: 1px solid gray;flex-grow: 1;}#sk-container-id-3 div.sk-label:hover label.sk-toggleable__label {background-color: #d4ebff;}#sk-container-id-3 div.sk-serial::before {content: \"\";position: absolute;border-left: 1px solid gray;box-sizing: border-box;top: 0;bottom: 0;left: 50%;z-index: 0;}#sk-container-id-3 div.sk-serial {display: flex;flex-direction: column;align-items: center;background-color: white;padding-right: 0.2em;padding-left: 0.2em;position: relative;}#sk-container-id-3 div.sk-item {position: relative;z-index: 1;}#sk-container-id-3 div.sk-parallel {display: flex;align-items: stretch;justify-content: center;background-color: white;position: relative;}#sk-container-id-3 div.sk-item::before, #sk-container-id-3 div.sk-parallel-item::before {content: \"\";position: absolute;border-left: 1px solid gray;box-sizing: border-box;top: 0;bottom: 0;left: 50%;z-index: -1;}#sk-container-id-3 div.sk-parallel-item {display: flex;flex-direction: column;z-index: 1;position: relative;background-color: white;}#sk-container-id-3 div.sk-parallel-item:first-child::after {align-self: flex-end;width: 50%;}#sk-container-id-3 div.sk-parallel-item:last-child::after {align-self: flex-start;width: 50%;}#sk-container-id-3 div.sk-parallel-item:only-child::after {width: 0;}#sk-container-id-3 div.sk-dashed-wrapped {border: 1px dashed gray;margin: 0 0.4em 0.5em 0.4em;box-sizing: border-box;padding-bottom: 0.4em;background-color: white;}#sk-container-id-3 div.sk-label label {font-family: monospace;font-weight: bold;display: inline-block;line-height: 1.2em;}#sk-container-id-3 div.sk-label-container {text-align: center;}#sk-container-id-3 div.sk-container {/* jupyter's `normalize.less` sets `[hidden] { display: none; }` but bootstrap.min.css set `[hidden] { display: none !important; }` so we also need the `!important` here to be able to override the default hidden behavior on the sphinx rendered scikit-learn.org. See: https://github.com/scikit-learn/scikit-learn/issues/21755 */display: inline-block !important;position: relative;}#sk-container-id-3 div.sk-text-repr-fallback {display: none;}</style><div id=\"sk-container-id-3\" class=\"sk-top-container\"><div class=\"sk-text-repr-fallback\"><pre>KMeans(n_clusters=4, random_state=42)</pre><b>In a Jupyter environment, please rerun this cell to show the HTML representation or trust the notebook. <br />On GitHub, the HTML representation is unable to render, please try loading this page with nbviewer.org.</b></div><div class=\"sk-container\" hidden><div class=\"sk-item\"><div class=\"sk-estimator sk-toggleable\"><input class=\"sk-toggleable__control sk-hidden--visually\" id=\"sk-estimator-id-3\" type=\"checkbox\" checked><label for=\"sk-estimator-id-3\" class=\"sk-toggleable__label sk-toggleable__label-arrow\">KMeans</label><div class=\"sk-toggleable__content\"><pre>KMeans(n_clusters=4, random_state=42)</pre></div></div></div></div></div>"
     },
     "execution_count": 24,
     "metadata": {},
     "output_type": "execute_result"
    }
   ],
   "source": [
    "n_clusters = 4\n",
    "kmeans = KMeans(n_clusters=n_clusters, random_state=42)\n",
    "kmeans.fit(data_normalized)"
   ],
   "metadata": {
    "collapsed": false,
    "ExecuteTime": {
     "end_time": "2023-10-03T23:28:45.909973Z",
     "start_time": "2023-10-03T23:28:45.868869Z"
    }
   },
   "id": "4daefc37d3bd7a5e"
  },
  {
   "cell_type": "code",
   "execution_count": 25,
   "outputs": [],
   "source": [
    "pca = PCA(n_components=4)\n",
    "latent_space_2d = pca.fit_transform(data_normalized)"
   ],
   "metadata": {
    "collapsed": false,
    "ExecuteTime": {
     "end_time": "2023-10-03T23:28:46.365958Z",
     "start_time": "2023-10-03T23:28:46.359140Z"
    }
   },
   "id": "8b6ea52c70c85566"
  },
  {
   "cell_type": "code",
   "execution_count": 26,
   "outputs": [
    {
     "data": {
      "text/plain": "<Figure size 640x480 with 2 Axes>",
      "image/png": "[encoded data removed]"
     },
     "metadata": {},
     "output_type": "display_data"
    }
   ],
   "source": [
    "plt.scatter(latent_space_2d[:, 0], latent_space_2d[:, 1], c=kmeans.labels_, cmap='viridis')\n",
    "plt.title('Clusters no Espaço Latente (K-Means)')\n",
    "plt.xlabel('Dimensão 1 do Espaço Latente')\n",
    "plt.ylabel('Dimensão 2 do Espaço Latente')\n",
    "plt.colorbar()\n",
    "plt.show()"
   ],
   "metadata": {
    "collapsed": false,
    "ExecuteTime": {
     "end_time": "2023-10-03T23:28:47.087711Z",
     "start_time": "2023-10-03T23:28:46.966975Z"
    }
   },
   "id": "9a1941be845b0691"
  },
  {
   "cell_type": "code",
   "execution_count": 16,
   "outputs": [],
   "source": [],
   "metadata": {
    "collapsed": false,
    "ExecuteTime": {
     "end_time": "2023-10-03T23:26:24.371094Z",
     "start_time": "2023-10-03T23:26:24.367816Z"
    }
   },
   "id": "de5e70fa3a1c3c5"
  }
 ],
 "metadata": {
  "kernelspec": {
   "display_name": "Python 3",
   "language": "python",
   "name": "python3"
  },
  "language_info": {
   "codemirror_mode": {
    "name": "ipython",
    "version": 2
   },
   "file_extension": ".py",
   "mimetype": "text/x-python",
   "name": "python",
   "nbconvert_exporter": "python",
   "pygments_lexer": "ipython2",
   "version": "2.7.6"
  }
 },
 "nbformat": 4,
 "nbformat_minor": 5
}
